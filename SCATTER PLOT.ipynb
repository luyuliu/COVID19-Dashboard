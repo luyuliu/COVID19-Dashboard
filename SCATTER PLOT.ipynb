{
 "cells": [
  {
   "cell_type": "markdown",
   "metadata": {},
   "source": [
    "# IRIS DATA: SIMPLE SCATTER PLOT USING D3 IN JUYPTER NOTEBOOK"
   ]
  },
  {
   "cell_type": "markdown",
   "metadata": {},
   "source": [
    "## Introduction"
   ]
  },
  {
   "cell_type": "markdown",
   "metadata": {},
   "source": [
    "This code is based on the blog explanation. The blog explains the various steps involved. Blog Link :\n",
    "\n",
    "\n",
    "Now let us use the famous Iris data set to represent a scatter plot.\n",
    "We will use the bl.ocks template from here ,to construct and customize the scatterplot in order to learn more about it .The link to the data set is here\n",
    "(https://gist.githubusercontent.com/mbostock/3887118/raw/2e68ffbeb23fe4dadd9b0f6bca62e9def6ee9e17/data.tsv) and it is in the tsv format.\n",
    "\n",
    "Please refer to the blog for the explanation of this note book ."
   ]
  },
  {
   "cell_type": "code",
   "execution_count": 55,
   "metadata": {
    "collapsed": true
   },
   "outputs": [],
   "source": [
    "# load the Preliminaries\n",
    "from IPython.core.display import display, HTML\n",
    "from string import Template\n",
    "import pandas as pd\n",
    "import json, random"
   ]
  },
  {
   "cell_type": "code",
   "execution_count": 56,
   "metadata": {},
   "outputs": [
    {
     "data": {
      "text/html": [
       "<script src=\"./d3.min.js\"></script>"
      ],
      "text/plain": [
       "<IPython.core.display.HTML object>"
      ]
     },
     "execution_count": 56,
     "metadata": {},
     "output_type": "execute_result"
    }
   ],
   "source": [
    "# Get the D3 host locally. \n",
    "HTML('<script src=\"./d3.min.js\"></script>')"
   ]
  },
  {
   "cell_type": "code",
   "execution_count": 47,
   "metadata": {},
   "outputs": [
    {
     "data": {
      "text/html": [
       "<div>\n",
       "<style>\n",
       "    .dataframe thead tr:only-child th {\n",
       "        text-align: right;\n",
       "    }\n",
       "\n",
       "    .dataframe thead th {\n",
       "        text-align: left;\n",
       "    }\n",
       "\n",
       "    .dataframe tbody tr th {\n",
       "        vertical-align: top;\n",
       "    }\n",
       "</style>\n",
       "<table border=\"1\" class=\"dataframe\">\n",
       "  <thead>\n",
       "    <tr style=\"text-align: right;\">\n",
       "      <th></th>\n",
       "      <th>sepalLength</th>\n",
       "      <th>sepalWidth</th>\n",
       "      <th>petalLength</th>\n",
       "      <th>petalWidth</th>\n",
       "      <th>species</th>\n",
       "    </tr>\n",
       "  </thead>\n",
       "  <tbody>\n",
       "    <tr>\n",
       "      <th>0</th>\n",
       "      <td>5.1</td>\n",
       "      <td>3.5</td>\n",
       "      <td>1.4</td>\n",
       "      <td>0.2</td>\n",
       "      <td>setosa</td>\n",
       "    </tr>\n",
       "    <tr>\n",
       "      <th>1</th>\n",
       "      <td>4.9</td>\n",
       "      <td>3.0</td>\n",
       "      <td>1.4</td>\n",
       "      <td>0.2</td>\n",
       "      <td>setosa</td>\n",
       "    </tr>\n",
       "    <tr>\n",
       "      <th>2</th>\n",
       "      <td>4.7</td>\n",
       "      <td>3.2</td>\n",
       "      <td>1.3</td>\n",
       "      <td>0.2</td>\n",
       "      <td>setosa</td>\n",
       "    </tr>\n",
       "    <tr>\n",
       "      <th>3</th>\n",
       "      <td>4.6</td>\n",
       "      <td>3.1</td>\n",
       "      <td>1.5</td>\n",
       "      <td>0.2</td>\n",
       "      <td>setosa</td>\n",
       "    </tr>\n",
       "    <tr>\n",
       "      <th>4</th>\n",
       "      <td>5.0</td>\n",
       "      <td>3.6</td>\n",
       "      <td>1.4</td>\n",
       "      <td>0.2</td>\n",
       "      <td>setosa</td>\n",
       "    </tr>\n",
       "  </tbody>\n",
       "</table>\n",
       "</div>"
      ],
      "text/plain": [
       "   sepalLength  sepalWidth  petalLength  petalWidth species\n",
       "0          5.1         3.5          1.4         0.2  setosa\n",
       "1          4.9         3.0          1.4         0.2  setosa\n",
       "2          4.7         3.2          1.3         0.2  setosa\n",
       "3          4.6         3.1          1.5         0.2  setosa\n",
       "4          5.0         3.6          1.4         0.2  setosa"
      ]
     },
     "execution_count": 47,
     "metadata": {},
     "output_type": "execute_result"
    }
   ],
   "source": [
    "# get the data from the link and parse it to convert it into a datafram-it's in tsv format\n",
    "filename = 'https://gist.githubusercontent.com/mbostock/3887118/raw/2e68ffbeb23fe4dadd9b0f6bca62e9def6ee9e17/data.tsv'\n",
    "iris = pd.read_csv(filename,sep=\"\\t\")\n",
    "iris.head()"
   ]
  },
  {
   "cell_type": "code",
   "execution_count": 48,
   "metadata": {
    "collapsed": true
   },
   "outputs": [],
   "source": [
    "# D3 accepts dictionaries , so let's convert data frame into dictionaries."
   ]
  },
  {
   "cell_type": "code",
   "execution_count": 49,
   "metadata": {},
   "outputs": [
    {
     "data": {
      "text/plain": [
       "[{'petalLength': 1.4,\n",
       "  'petalWidth': 0.2,\n",
       "  'sepalLength': 5.1,\n",
       "  'sepalWidth': 3.5,\n",
       "  'species': 'setosa'},\n",
       " {'petalLength': 1.4,\n",
       "  'petalWidth': 0.2,\n",
       "  'sepalLength': 4.9,\n",
       "  'sepalWidth': 3.0,\n",
       "  'species': 'setosa'},\n",
       " {'petalLength': 1.3,\n",
       "  'petalWidth': 0.2,\n",
       "  'sepalLength': 4.7,\n",
       "  'sepalWidth': 3.2,\n",
       "  'species': 'setosa'},\n",
       " {'petalLength': 1.5,\n",
       "  'petalWidth': 0.2,\n",
       "  'sepalLength': 4.6,\n",
       "  'sepalWidth': 3.1,\n",
       "  'species': 'setosa'},\n",
       " {'petalLength': 1.4,\n",
       "  'petalWidth': 0.2,\n",
       "  'sepalLength': 5.0,\n",
       "  'sepalWidth': 3.6,\n",
       "  'species': 'setosa'}]"
      ]
     },
     "execution_count": 49,
     "metadata": {},
     "output_type": "execute_result"
    }
   ],
   "source": [
    "iris_array_of_dicts = iris.to_dict(orient='records')\n",
    "iris_array_of_dicts[:5]"
   ]
  },
  {
   "cell_type": "markdown",
   "metadata": {},
   "source": [
    "## CSS,HTML,Javascript  based on bl.ocks example"
   ]
  },
  {
   "cell_type": "markdown",
   "metadata": {},
   "source": [
    "Note that in the below css_text, we have removed the 'body' style reference from the original bl.ocks text. This is to avoid this style changing the rest of the notebook.`m\n",
    "\n",
    "You can get bl.ocks from here : https://bl.ocks.org/mbostock/3887118"
   ]
  },
  {
   "cell_type": "code",
   "execution_count": 51,
   "metadata": {
    "collapsed": true
   },
   "outputs": [],
   "source": [
    "css_text = '''\n",
    ".axis path,\n",
    ".axis line {\n",
    "  fill: none;\n",
    "  stroke: #000;\n",
    "  shape-rendering: crispEdges;\n",
    "}\n",
    "\n",
    ".dot {\n",
    "  stroke: #000;\n",
    "}\n",
    "'''"
   ]
  },
  {
   "cell_type": "markdown",
   "metadata": {},
   "source": [
    "Next, let’s copy the java script and make two changes that are :\n",
    "\n",
    "* The first set of changes is to the width and height of the image\n",
    "* The second change is simply to reference a different DOM element as the starting point. D3 will look for a specific DOM element to write things to. These block usually reference an external file like csv/tsv. The $ is going to be used in the templet engine to find and replace.\n",
    "\n",
    "\n",
    "Note : //* — is used as comments , so those lines will not be executed and below that you can see the changes that were made."
   ]
  },
  {
   "cell_type": "code",
   "execution_count": 52,
   "metadata": {
    "collapsed": true
   },
   "outputs": [],
   "source": [
    "js_text_template = Template('''\n",
    "var margin = {top: 20, right: 20, bottom: 30, left: 40},\n",
    "// ****    width = 960 - margin.left - margin.right, ****\n",
    "// ****    height = 500 - margin.top - margin.bottom; ****\n",
    "    width = 720 - margin.left - margin.right,\n",
    "    height = 375 - margin.top - margin.bottom;\n",
    "\n",
    "var x = d3.scale.linear()\n",
    "    .range([0, width]);\n",
    "\n",
    "var y = d3.scale.linear()\n",
    "    .range([height, 0]);\n",
    "\n",
    "var color = d3.scale.category10();\n",
    "\n",
    "var xAxis = d3.svg.axis()\n",
    "    .scale(x)\n",
    "    .orient(\"bottom\");\n",
    "\n",
    "var yAxis = d3.svg.axis()\n",
    "    .scale(y)\n",
    "    .orient(\"left\");\n",
    "\n",
    "// **** var svg = d3.select(\"body\").append(\"svg\") ****\n",
    "var svg = d3.select(\"#$graphdiv\").append(\"svg\")\n",
    "    .attr(\"width\", width + margin.left + margin.right)\n",
    "    .attr(\"height\", height + margin.top + margin.bottom)\n",
    "  .append(\"g\")\n",
    "    .attr(\"transform\", \"translate(\" + margin.left + \",\" + margin.top + \")\");\n",
    "\n",
    "// **** d3.tsv(\"data.tsv\", function(error, data) { ****\n",
    "// ****  if (error) throw error; ****\n",
    "\n",
    "var data = $python_data ;\n",
    "\n",
    "  data.forEach(function(d) {\n",
    "    d.sepalLength = +d.sepalLength;\n",
    "    d.sepalWidth = +d.sepalWidth;\n",
    "  });\n",
    "\n",
    "  x.domain(d3.extent(data, function(d) { return d.sepalWidth; })).nice();\n",
    "  y.domain(d3.extent(data, function(d) { return d.sepalLength; })).nice();\n",
    "\n",
    "  svg.append(\"g\")\n",
    "      .attr(\"class\", \"x axis\")\n",
    "      .attr(\"transform\", \"translate(0,\" + height + \")\")\n",
    "      .call(xAxis)\n",
    "    .append(\"text\")\n",
    "      .attr(\"class\", \"label\")\n",
    "      .attr(\"x\", width)\n",
    "      .attr(\"y\", -6)\n",
    "      .style(\"text-anchor\", \"end\")\n",
    "      .text(\"Sepal Width (cm)\");\n",
    "\n",
    "  svg.append(\"g\")\n",
    "      .attr(\"class\", \"y axis\")\n",
    "      .call(yAxis)\n",
    "    .append(\"text\")\n",
    "      .attr(\"class\", \"label\")\n",
    "      .attr(\"transform\", \"rotate(-90)\")\n",
    "      .attr(\"y\", 6)\n",
    "      .attr(\"dy\", \".71em\")\n",
    "      .style(\"text-anchor\", \"end\")\n",
    "      .text(\"Sepal Length (cm)\")\n",
    "\n",
    "  svg.selectAll(\".dot\")\n",
    "      .data(data)\n",
    "    .enter().append(\"circle\")\n",
    "      .attr(\"class\", \"dot\")\n",
    "      .attr(\"r\", 3.5)\n",
    "      .attr(\"cx\", function(d) { return x(d.sepalWidth); })\n",
    "      .attr(\"cy\", function(d) { return y(d.sepalLength); })\n",
    "      .style(\"fill\", function(d) { return color(d.species); });\n",
    "\n",
    "  var legend = svg.selectAll(\".legend\")\n",
    "      .data(color.domain())\n",
    "    .enter().append(\"g\")\n",
    "      .attr(\"class\", \"legend\")\n",
    "      .attr(\"transform\", function(d, i) { return \"translate(0,\" + i * 20 + \")\"; });\n",
    "\n",
    "  legend.append(\"rect\")\n",
    "      .attr(\"x\", width - 18)\n",
    "      .attr(\"width\", 18)\n",
    "      .attr(\"height\", 18)\n",
    "      .style(\"fill\", color);\n",
    "\n",
    "  legend.append(\"text\")\n",
    "      .attr(\"x\", width - 24)\n",
    "      .attr(\"y\", 9)\n",
    "      .attr(\"dy\", \".35em\")\n",
    "      .style(\"text-anchor\", \"end\")\n",
    "      .text(function(d) { return d; });\n",
    "\n",
    "// **** }); ****\n",
    "\n",
    "''')"
   ]
  },
  {
   "cell_type": "code",
   "execution_count": 53,
   "metadata": {
    "collapsed": true
   },
   "outputs": [],
   "source": [
    "# Now let’s make a template for the html string\n",
    "html_template = Template('''\n",
    "<style> $css_text </style>\n",
    "<div id=\"graph-div\"></div>\n",
    "<script> $js_text </script>\n",
    "''')\n"
   ]
  },
  {
   "cell_type": "markdown",
   "metadata": {},
   "source": [
    "You can notice I have put css text for the style which we created earlier.Then we use div instead of a body and use that id to reference later .First we have the template engine for the java script where we give that data and create a connection for graphdive by referencing the id .Now for the next step ,add the css and the java script to the HTML template engine which will combine it to execute the output(the scatter plot)"
   ]
  },
  {
   "cell_type": "code",
   "execution_count": 54,
   "metadata": {},
   "outputs": [
    {
     "data": {
      "text/html": [
       "\n",
       "<style> \n",
       ".axis path,\n",
       ".axis line {\n",
       "  fill: none;\n",
       "  stroke: #000;\n",
       "  shape-rendering: crispEdges;\n",
       "}\n",
       "\n",
       ".dot {\n",
       "  stroke: #000;\n",
       "}\n",
       " </style>\n",
       "<div id=\"graph-div\"></div>\n",
       "<script> \n",
       "var margin = {top: 20, right: 20, bottom: 30, left: 40},\n",
       "// ****    width = 960 - margin.left - margin.right, ****\n",
       "// ****    height = 500 - margin.top - margin.bottom; ****\n",
       "    width = 720 - margin.left - margin.right,\n",
       "    height = 375 - margin.top - margin.bottom;\n",
       "\n",
       "var x = d3.scale.linear()\n",
       "    .range([0, width]);\n",
       "\n",
       "var y = d3.scale.linear()\n",
       "    .range([height, 0]);\n",
       "\n",
       "var color = d3.scale.category10();\n",
       "\n",
       "var xAxis = d3.svg.axis()\n",
       "    .scale(x)\n",
       "    .orient(\"bottom\");\n",
       "\n",
       "var yAxis = d3.svg.axis()\n",
       "    .scale(y)\n",
       "    .orient(\"left\");\n",
       "\n",
       "// **** var svg = d3.select(\"body\").append(\"svg\") ****\n",
       "var svg = d3.select(\"#graph-div\").append(\"svg\")\n",
       "    .attr(\"width\", width + margin.left + margin.right)\n",
       "    .attr(\"height\", height + margin.top + margin.bottom)\n",
       "  .append(\"g\")\n",
       "    .attr(\"transform\", \"translate(\" + margin.left + \",\" + margin.top + \")\");\n",
       "\n",
       "// **** d3.tsv(\"data.tsv\", function(error, data) { ****\n",
       "// ****  if (error) throw error; ****\n",
       "\n",
       "var data = [{\"sepalLength\": 5.1, \"petalWidth\": 0.2, \"sepalWidth\": 3.5, \"petalLength\": 1.4, \"species\": \"setosa\"}, {\"sepalLength\": 4.9, \"petalWidth\": 0.2, \"sepalWidth\": 3.0, \"petalLength\": 1.4, \"species\": \"setosa\"}, {\"sepalLength\": 4.7, \"petalWidth\": 0.2, \"sepalWidth\": 3.2, \"petalLength\": 1.3, \"species\": \"setosa\"}, {\"sepalLength\": 4.6, \"petalWidth\": 0.2, \"sepalWidth\": 3.1, \"petalLength\": 1.5, \"species\": \"setosa\"}, {\"sepalLength\": 5.0, \"petalWidth\": 0.2, \"sepalWidth\": 3.6, \"petalLength\": 1.4, \"species\": \"setosa\"}, {\"sepalLength\": 5.4, \"petalWidth\": 0.4, \"sepalWidth\": 3.9, \"petalLength\": 1.7, \"species\": \"setosa\"}, {\"sepalLength\": 4.6, \"petalWidth\": 0.3, \"sepalWidth\": 3.4, \"petalLength\": 1.4, \"species\": \"setosa\"}, {\"sepalLength\": 5.0, \"petalWidth\": 0.2, \"sepalWidth\": 3.4, \"petalLength\": 1.5, \"species\": \"setosa\"}, {\"sepalLength\": 4.4, \"petalWidth\": 0.2, \"sepalWidth\": 2.9, \"petalLength\": 1.4, \"species\": \"setosa\"}, {\"sepalLength\": 4.9, \"petalWidth\": 0.1, \"sepalWidth\": 3.1, \"petalLength\": 1.5, \"species\": \"setosa\"}, {\"sepalLength\": 5.4, \"petalWidth\": 0.2, \"sepalWidth\": 3.7, \"petalLength\": 1.5, \"species\": \"setosa\"}, {\"sepalLength\": 4.8, \"petalWidth\": 0.2, \"sepalWidth\": 3.4, \"petalLength\": 1.6, \"species\": \"setosa\"}, {\"sepalLength\": 4.8, \"petalWidth\": 0.1, \"sepalWidth\": 3.0, \"petalLength\": 1.4, \"species\": \"setosa\"}, {\"sepalLength\": 4.3, \"petalWidth\": 0.1, \"sepalWidth\": 3.0, \"petalLength\": 1.1, \"species\": \"setosa\"}, {\"sepalLength\": 5.8, \"petalWidth\": 0.2, \"sepalWidth\": 4.0, \"petalLength\": 1.2, \"species\": \"setosa\"}, {\"sepalLength\": 5.7, \"petalWidth\": 0.4, \"sepalWidth\": 4.4, \"petalLength\": 1.5, \"species\": \"setosa\"}, {\"sepalLength\": 5.4, \"petalWidth\": 0.4, \"sepalWidth\": 3.9, \"petalLength\": 1.3, \"species\": \"setosa\"}, {\"sepalLength\": 5.1, \"petalWidth\": 0.3, \"sepalWidth\": 3.5, \"petalLength\": 1.4, \"species\": \"setosa\"}, {\"sepalLength\": 5.7, \"petalWidth\": 0.3, \"sepalWidth\": 3.8, \"petalLength\": 1.7, \"species\": \"setosa\"}, {\"sepalLength\": 5.1, \"petalWidth\": 0.3, \"sepalWidth\": 3.8, \"petalLength\": 1.5, \"species\": \"setosa\"}, {\"sepalLength\": 5.4, \"petalWidth\": 0.2, \"sepalWidth\": 3.4, \"petalLength\": 1.7, \"species\": \"setosa\"}, {\"sepalLength\": 5.1, \"petalWidth\": 0.4, \"sepalWidth\": 3.7, \"petalLength\": 1.5, \"species\": \"setosa\"}, {\"sepalLength\": 4.6, \"petalWidth\": 0.2, \"sepalWidth\": 3.6, \"petalLength\": 1.0, \"species\": \"setosa\"}, {\"sepalLength\": 5.1, \"petalWidth\": 0.5, \"sepalWidth\": 3.3, \"petalLength\": 1.7, \"species\": \"setosa\"}, {\"sepalLength\": 4.8, \"petalWidth\": 0.2, \"sepalWidth\": 3.4, \"petalLength\": 1.9, \"species\": \"setosa\"}, {\"sepalLength\": 5.0, \"petalWidth\": 0.2, \"sepalWidth\": 3.0, \"petalLength\": 1.6, \"species\": \"setosa\"}, {\"sepalLength\": 5.0, \"petalWidth\": 0.4, \"sepalWidth\": 3.4, \"petalLength\": 1.6, \"species\": \"setosa\"}, {\"sepalLength\": 5.2, \"petalWidth\": 0.2, \"sepalWidth\": 3.5, \"petalLength\": 1.5, \"species\": \"setosa\"}, {\"sepalLength\": 5.2, \"petalWidth\": 0.2, \"sepalWidth\": 3.4, \"petalLength\": 1.4, \"species\": \"setosa\"}, {\"sepalLength\": 4.7, \"petalWidth\": 0.2, \"sepalWidth\": 3.2, \"petalLength\": 1.6, \"species\": \"setosa\"}, {\"sepalLength\": 4.8, \"petalWidth\": 0.2, \"sepalWidth\": 3.1, \"petalLength\": 1.6, \"species\": \"setosa\"}, {\"sepalLength\": 5.4, \"petalWidth\": 0.4, \"sepalWidth\": 3.4, \"petalLength\": 1.5, \"species\": \"setosa\"}, {\"sepalLength\": 5.2, \"petalWidth\": 0.1, \"sepalWidth\": 4.1, \"petalLength\": 1.5, \"species\": \"setosa\"}, {\"sepalLength\": 5.5, \"petalWidth\": 0.2, \"sepalWidth\": 4.2, \"petalLength\": 1.4, \"species\": \"setosa\"}, {\"sepalLength\": 4.9, \"petalWidth\": 0.2, \"sepalWidth\": 3.1, \"petalLength\": 1.5, \"species\": \"setosa\"}, {\"sepalLength\": 5.0, \"petalWidth\": 0.2, \"sepalWidth\": 3.2, \"petalLength\": 1.2, \"species\": \"setosa\"}, {\"sepalLength\": 5.5, \"petalWidth\": 0.2, \"sepalWidth\": 3.5, \"petalLength\": 1.3, \"species\": \"setosa\"}, {\"sepalLength\": 4.9, \"petalWidth\": 0.1, \"sepalWidth\": 3.6, \"petalLength\": 1.4, \"species\": \"setosa\"}, {\"sepalLength\": 4.4, \"petalWidth\": 0.2, \"sepalWidth\": 3.0, \"petalLength\": 1.3, \"species\": \"setosa\"}, {\"sepalLength\": 5.1, \"petalWidth\": 0.2, \"sepalWidth\": 3.4, \"petalLength\": 1.5, \"species\": \"setosa\"}, {\"sepalLength\": 5.0, \"petalWidth\": 0.3, \"sepalWidth\": 3.5, \"petalLength\": 1.3, \"species\": \"setosa\"}, {\"sepalLength\": 4.5, \"petalWidth\": 0.3, \"sepalWidth\": 2.3, \"petalLength\": 1.3, \"species\": \"setosa\"}, {\"sepalLength\": 4.4, \"petalWidth\": 0.2, \"sepalWidth\": 3.2, \"petalLength\": 1.3, \"species\": \"setosa\"}, {\"sepalLength\": 5.0, \"petalWidth\": 0.6, \"sepalWidth\": 3.5, \"petalLength\": 1.6, \"species\": \"setosa\"}, {\"sepalLength\": 5.1, \"petalWidth\": 0.4, \"sepalWidth\": 3.8, \"petalLength\": 1.9, \"species\": \"setosa\"}, {\"sepalLength\": 4.8, \"petalWidth\": 0.3, \"sepalWidth\": 3.0, \"petalLength\": 1.4, \"species\": \"setosa\"}, {\"sepalLength\": 5.1, \"petalWidth\": 0.2, \"sepalWidth\": 3.8, \"petalLength\": 1.6, \"species\": \"setosa\"}, {\"sepalLength\": 4.6, \"petalWidth\": 0.2, \"sepalWidth\": 3.2, \"petalLength\": 1.4, \"species\": \"setosa\"}, {\"sepalLength\": 5.3, \"petalWidth\": 0.2, \"sepalWidth\": 3.7, \"petalLength\": 1.5, \"species\": \"setosa\"}, {\"sepalLength\": 5.0, \"petalWidth\": 0.2, \"sepalWidth\": 3.3, \"petalLength\": 1.4, \"species\": \"setosa\"}, {\"sepalLength\": 7.0, \"petalWidth\": 1.4, \"sepalWidth\": 3.2, \"petalLength\": 4.7, \"species\": \"versicolor\"}, {\"sepalLength\": 6.4, \"petalWidth\": 1.5, \"sepalWidth\": 3.2, \"petalLength\": 4.5, \"species\": \"versicolor\"}, {\"sepalLength\": 6.9, \"petalWidth\": 1.5, \"sepalWidth\": 3.1, \"petalLength\": 4.9, \"species\": \"versicolor\"}, {\"sepalLength\": 5.5, \"petalWidth\": 1.3, \"sepalWidth\": 2.3, \"petalLength\": 4.0, \"species\": \"versicolor\"}, {\"sepalLength\": 6.5, \"petalWidth\": 1.5, \"sepalWidth\": 2.8, \"petalLength\": 4.6, \"species\": \"versicolor\"}, {\"sepalLength\": 5.7, \"petalWidth\": 1.3, \"sepalWidth\": 2.8, \"petalLength\": 4.5, \"species\": \"versicolor\"}, {\"sepalLength\": 6.3, \"petalWidth\": 1.6, \"sepalWidth\": 3.3, \"petalLength\": 4.7, \"species\": \"versicolor\"}, {\"sepalLength\": 4.9, \"petalWidth\": 1.0, \"sepalWidth\": 2.4, \"petalLength\": 3.3, \"species\": \"versicolor\"}, {\"sepalLength\": 6.6, \"petalWidth\": 1.3, \"sepalWidth\": 2.9, \"petalLength\": 4.6, \"species\": \"versicolor\"}, {\"sepalLength\": 5.2, \"petalWidth\": 1.4, \"sepalWidth\": 2.7, \"petalLength\": 3.9, \"species\": \"versicolor\"}, {\"sepalLength\": 5.0, \"petalWidth\": 1.0, \"sepalWidth\": 2.0, \"petalLength\": 3.5, \"species\": \"versicolor\"}, {\"sepalLength\": 5.9, \"petalWidth\": 1.5, \"sepalWidth\": 3.0, \"petalLength\": 4.2, \"species\": \"versicolor\"}, {\"sepalLength\": 6.0, \"petalWidth\": 1.0, \"sepalWidth\": 2.2, \"petalLength\": 4.0, \"species\": \"versicolor\"}, {\"sepalLength\": 6.1, \"petalWidth\": 1.4, \"sepalWidth\": 2.9, \"petalLength\": 4.7, \"species\": \"versicolor\"}, {\"sepalLength\": 5.6, \"petalWidth\": 1.3, \"sepalWidth\": 2.9, \"petalLength\": 3.6, \"species\": \"versicolor\"}, {\"sepalLength\": 6.7, \"petalWidth\": 1.4, \"sepalWidth\": 3.1, \"petalLength\": 4.4, \"species\": \"versicolor\"}, {\"sepalLength\": 5.6, \"petalWidth\": 1.5, \"sepalWidth\": 3.0, \"petalLength\": 4.5, \"species\": \"versicolor\"}, {\"sepalLength\": 5.8, \"petalWidth\": 1.0, \"sepalWidth\": 2.7, \"petalLength\": 4.1, \"species\": \"versicolor\"}, {\"sepalLength\": 6.2, \"petalWidth\": 1.5, \"sepalWidth\": 2.2, \"petalLength\": 4.5, \"species\": \"versicolor\"}, {\"sepalLength\": 5.6, \"petalWidth\": 1.1, \"sepalWidth\": 2.5, \"petalLength\": 3.9, \"species\": \"versicolor\"}, {\"sepalLength\": 5.9, \"petalWidth\": 1.8, \"sepalWidth\": 3.2, \"petalLength\": 4.8, \"species\": \"versicolor\"}, {\"sepalLength\": 6.1, \"petalWidth\": 1.3, \"sepalWidth\": 2.8, \"petalLength\": 4.0, \"species\": \"versicolor\"}, {\"sepalLength\": 6.3, \"petalWidth\": 1.5, \"sepalWidth\": 2.5, \"petalLength\": 4.9, \"species\": \"versicolor\"}, {\"sepalLength\": 6.1, \"petalWidth\": 1.2, \"sepalWidth\": 2.8, \"petalLength\": 4.7, \"species\": \"versicolor\"}, {\"sepalLength\": 6.4, \"petalWidth\": 1.3, \"sepalWidth\": 2.9, \"petalLength\": 4.3, \"species\": \"versicolor\"}, {\"sepalLength\": 6.6, \"petalWidth\": 1.4, \"sepalWidth\": 3.0, \"petalLength\": 4.4, \"species\": \"versicolor\"}, {\"sepalLength\": 6.8, \"petalWidth\": 1.4, \"sepalWidth\": 2.8, \"petalLength\": 4.8, \"species\": \"versicolor\"}, {\"sepalLength\": 6.7, \"petalWidth\": 1.7, \"sepalWidth\": 3.0, \"petalLength\": 5.0, \"species\": \"versicolor\"}, {\"sepalLength\": 6.0, \"petalWidth\": 1.5, \"sepalWidth\": 2.9, \"petalLength\": 4.5, \"species\": \"versicolor\"}, {\"sepalLength\": 5.7, \"petalWidth\": 1.0, \"sepalWidth\": 2.6, \"petalLength\": 3.5, \"species\": \"versicolor\"}, {\"sepalLength\": 5.5, \"petalWidth\": 1.1, \"sepalWidth\": 2.4, \"petalLength\": 3.8, \"species\": \"versicolor\"}, {\"sepalLength\": 5.5, \"petalWidth\": 1.0, \"sepalWidth\": 2.4, \"petalLength\": 3.7, \"species\": \"versicolor\"}, {\"sepalLength\": 5.8, \"petalWidth\": 1.2, \"sepalWidth\": 2.7, \"petalLength\": 3.9, \"species\": \"versicolor\"}, {\"sepalLength\": 6.0, \"petalWidth\": 1.6, \"sepalWidth\": 2.7, \"petalLength\": 5.1, \"species\": \"versicolor\"}, {\"sepalLength\": 5.4, \"petalWidth\": 1.5, \"sepalWidth\": 3.0, \"petalLength\": 4.5, \"species\": \"versicolor\"}, {\"sepalLength\": 6.0, \"petalWidth\": 1.6, \"sepalWidth\": 3.4, \"petalLength\": 4.5, \"species\": \"versicolor\"}, {\"sepalLength\": 6.7, \"petalWidth\": 1.5, \"sepalWidth\": 3.1, \"petalLength\": 4.7, \"species\": \"versicolor\"}, {\"sepalLength\": 6.3, \"petalWidth\": 1.3, \"sepalWidth\": 2.3, \"petalLength\": 4.4, \"species\": \"versicolor\"}, {\"sepalLength\": 5.6, \"petalWidth\": 1.3, \"sepalWidth\": 3.0, \"petalLength\": 4.1, \"species\": \"versicolor\"}, {\"sepalLength\": 5.5, \"petalWidth\": 1.3, \"sepalWidth\": 2.5, \"petalLength\": 4.0, \"species\": \"versicolor\"}, {\"sepalLength\": 5.5, \"petalWidth\": 1.2, \"sepalWidth\": 2.6, \"petalLength\": 4.4, \"species\": \"versicolor\"}, {\"sepalLength\": 6.1, \"petalWidth\": 1.4, \"sepalWidth\": 3.0, \"petalLength\": 4.6, \"species\": \"versicolor\"}, {\"sepalLength\": 5.8, \"petalWidth\": 1.2, \"sepalWidth\": 2.6, \"petalLength\": 4.0, \"species\": \"versicolor\"}, {\"sepalLength\": 5.0, \"petalWidth\": 1.0, \"sepalWidth\": 2.3, \"petalLength\": 3.3, \"species\": \"versicolor\"}, {\"sepalLength\": 5.6, \"petalWidth\": 1.3, \"sepalWidth\": 2.7, \"petalLength\": 4.2, \"species\": \"versicolor\"}, {\"sepalLength\": 5.7, \"petalWidth\": 1.2, \"sepalWidth\": 3.0, \"petalLength\": 4.2, \"species\": \"versicolor\"}, {\"sepalLength\": 5.7, \"petalWidth\": 1.3, \"sepalWidth\": 2.9, \"petalLength\": 4.2, \"species\": \"versicolor\"}, {\"sepalLength\": 6.2, \"petalWidth\": 1.3, \"sepalWidth\": 2.9, \"petalLength\": 4.3, \"species\": \"versicolor\"}, {\"sepalLength\": 5.1, \"petalWidth\": 1.1, \"sepalWidth\": 2.5, \"petalLength\": 3.0, \"species\": \"versicolor\"}, {\"sepalLength\": 5.7, \"petalWidth\": 1.3, \"sepalWidth\": 2.8, \"petalLength\": 4.1, \"species\": \"versicolor\"}, {\"sepalLength\": 6.3, \"petalWidth\": 2.5, \"sepalWidth\": 3.3, \"petalLength\": 6.0, \"species\": \"virginica\"}, {\"sepalLength\": 5.8, \"petalWidth\": 1.9, \"sepalWidth\": 2.7, \"petalLength\": 5.1, \"species\": \"virginica\"}, {\"sepalLength\": 7.1, \"petalWidth\": 2.1, \"sepalWidth\": 3.0, \"petalLength\": 5.9, \"species\": \"virginica\"}, {\"sepalLength\": 6.3, \"petalWidth\": 1.8, \"sepalWidth\": 2.9, \"petalLength\": 5.6, \"species\": \"virginica\"}, {\"sepalLength\": 6.5, \"petalWidth\": 2.2, \"sepalWidth\": 3.0, \"petalLength\": 5.8, \"species\": \"virginica\"}, {\"sepalLength\": 7.6, \"petalWidth\": 2.1, \"sepalWidth\": 3.0, \"petalLength\": 6.6, \"species\": \"virginica\"}, {\"sepalLength\": 4.9, \"petalWidth\": 1.7, \"sepalWidth\": 2.5, \"petalLength\": 4.5, \"species\": \"virginica\"}, {\"sepalLength\": 7.3, \"petalWidth\": 1.8, \"sepalWidth\": 2.9, \"petalLength\": 6.3, \"species\": \"virginica\"}, {\"sepalLength\": 6.7, \"petalWidth\": 1.8, \"sepalWidth\": 2.5, \"petalLength\": 5.8, \"species\": \"virginica\"}, {\"sepalLength\": 7.2, \"petalWidth\": 2.5, \"sepalWidth\": 3.6, \"petalLength\": 6.1, \"species\": \"virginica\"}, {\"sepalLength\": 6.5, \"petalWidth\": 2.0, \"sepalWidth\": 3.2, \"petalLength\": 5.1, \"species\": \"virginica\"}, {\"sepalLength\": 6.4, \"petalWidth\": 1.9, \"sepalWidth\": 2.7, \"petalLength\": 5.3, \"species\": \"virginica\"}, {\"sepalLength\": 6.8, \"petalWidth\": 2.1, \"sepalWidth\": 3.0, \"petalLength\": 5.5, \"species\": \"virginica\"}, {\"sepalLength\": 5.7, \"petalWidth\": 2.0, \"sepalWidth\": 2.5, \"petalLength\": 5.0, \"species\": \"virginica\"}, {\"sepalLength\": 5.8, \"petalWidth\": 2.4, \"sepalWidth\": 2.8, \"petalLength\": 5.1, \"species\": \"virginica\"}, {\"sepalLength\": 6.4, \"petalWidth\": 2.3, \"sepalWidth\": 3.2, \"petalLength\": 5.3, \"species\": \"virginica\"}, {\"sepalLength\": 6.5, \"petalWidth\": 1.8, \"sepalWidth\": 3.0, \"petalLength\": 5.5, \"species\": \"virginica\"}, {\"sepalLength\": 7.7, \"petalWidth\": 2.2, \"sepalWidth\": 3.8, \"petalLength\": 6.7, \"species\": \"virginica\"}, {\"sepalLength\": 7.7, \"petalWidth\": 2.3, \"sepalWidth\": 2.6, \"petalLength\": 6.9, \"species\": \"virginica\"}, {\"sepalLength\": 6.0, \"petalWidth\": 1.5, \"sepalWidth\": 2.2, \"petalLength\": 5.0, \"species\": \"virginica\"}, {\"sepalLength\": 6.9, \"petalWidth\": 2.3, \"sepalWidth\": 3.2, \"petalLength\": 5.7, \"species\": \"virginica\"}, {\"sepalLength\": 5.6, \"petalWidth\": 2.0, \"sepalWidth\": 2.8, \"petalLength\": 4.9, \"species\": \"virginica\"}, {\"sepalLength\": 7.7, \"petalWidth\": 2.0, \"sepalWidth\": 2.8, \"petalLength\": 6.7, \"species\": \"virginica\"}, {\"sepalLength\": 6.3, \"petalWidth\": 1.8, \"sepalWidth\": 2.7, \"petalLength\": 4.9, \"species\": \"virginica\"}, {\"sepalLength\": 6.7, \"petalWidth\": 2.1, \"sepalWidth\": 3.3, \"petalLength\": 5.7, \"species\": \"virginica\"}, {\"sepalLength\": 7.2, \"petalWidth\": 1.8, \"sepalWidth\": 3.2, \"petalLength\": 6.0, \"species\": \"virginica\"}, {\"sepalLength\": 6.2, \"petalWidth\": 1.8, \"sepalWidth\": 2.8, \"petalLength\": 4.8, \"species\": \"virginica\"}, {\"sepalLength\": 6.1, \"petalWidth\": 1.8, \"sepalWidth\": 3.0, \"petalLength\": 4.9, \"species\": \"virginica\"}, {\"sepalLength\": 6.4, \"petalWidth\": 2.1, \"sepalWidth\": 2.8, \"petalLength\": 5.6, \"species\": \"virginica\"}, {\"sepalLength\": 7.2, \"petalWidth\": 1.6, \"sepalWidth\": 3.0, \"petalLength\": 5.8, \"species\": \"virginica\"}, {\"sepalLength\": 7.4, \"petalWidth\": 1.9, \"sepalWidth\": 2.8, \"petalLength\": 6.1, \"species\": \"virginica\"}, {\"sepalLength\": 7.9, \"petalWidth\": 2.0, \"sepalWidth\": 3.8, \"petalLength\": 6.4, \"species\": \"virginica\"}, {\"sepalLength\": 6.4, \"petalWidth\": 2.2, \"sepalWidth\": 2.8, \"petalLength\": 5.6, \"species\": \"virginica\"}, {\"sepalLength\": 6.3, \"petalWidth\": 1.5, \"sepalWidth\": 2.8, \"petalLength\": 5.1, \"species\": \"virginica\"}, {\"sepalLength\": 6.1, \"petalWidth\": 1.4, \"sepalWidth\": 2.6, \"petalLength\": 5.6, \"species\": \"virginica\"}, {\"sepalLength\": 7.7, \"petalWidth\": 2.3, \"sepalWidth\": 3.0, \"petalLength\": 6.1, \"species\": \"virginica\"}, {\"sepalLength\": 6.3, \"petalWidth\": 2.4, \"sepalWidth\": 3.4, \"petalLength\": 5.6, \"species\": \"virginica\"}, {\"sepalLength\": 6.4, \"petalWidth\": 1.8, \"sepalWidth\": 3.1, \"petalLength\": 5.5, \"species\": \"virginica\"}, {\"sepalLength\": 6.0, \"petalWidth\": 1.8, \"sepalWidth\": 3.0, \"petalLength\": 4.8, \"species\": \"virginica\"}, {\"sepalLength\": 6.9, \"petalWidth\": 2.1, \"sepalWidth\": 3.1, \"petalLength\": 5.4, \"species\": \"virginica\"}, {\"sepalLength\": 6.7, \"petalWidth\": 2.4, \"sepalWidth\": 3.1, \"petalLength\": 5.6, \"species\": \"virginica\"}, {\"sepalLength\": 6.9, \"petalWidth\": 2.3, \"sepalWidth\": 3.1, \"petalLength\": 5.1, \"species\": \"virginica\"}, {\"sepalLength\": 5.8, \"petalWidth\": 1.9, \"sepalWidth\": 2.7, \"petalLength\": 5.1, \"species\": \"virginica\"}, {\"sepalLength\": 6.8, \"petalWidth\": 2.3, \"sepalWidth\": 3.2, \"petalLength\": 5.9, \"species\": \"virginica\"}, {\"sepalLength\": 6.7, \"petalWidth\": 2.5, \"sepalWidth\": 3.3, \"petalLength\": 5.7, \"species\": \"virginica\"}, {\"sepalLength\": 6.7, \"petalWidth\": 2.3, \"sepalWidth\": 3.0, \"petalLength\": 5.2, \"species\": \"virginica\"}, {\"sepalLength\": 6.3, \"petalWidth\": 1.9, \"sepalWidth\": 2.5, \"petalLength\": 5.0, \"species\": \"virginica\"}, {\"sepalLength\": 6.5, \"petalWidth\": 2.0, \"sepalWidth\": 3.0, \"petalLength\": 5.2, \"species\": \"virginica\"}, {\"sepalLength\": 6.2, \"petalWidth\": 2.3, \"sepalWidth\": 3.4, \"petalLength\": 5.4, \"species\": \"virginica\"}, {\"sepalLength\": 5.9, \"petalWidth\": 1.8, \"sepalWidth\": 3.0, \"petalLength\": 5.1, \"species\": \"virginica\"}] ;\n",
       "\n",
       "  data.forEach(function(d) {\n",
       "    d.sepalLength = +d.sepalLength;\n",
       "    d.sepalWidth = +d.sepalWidth;\n",
       "  });\n",
       "\n",
       "  x.domain(d3.extent(data, function(d) { return d.sepalWidth; })).nice();\n",
       "  y.domain(d3.extent(data, function(d) { return d.sepalLength; })).nice();\n",
       "\n",
       "  svg.append(\"g\")\n",
       "      .attr(\"class\", \"x axis\")\n",
       "      .attr(\"transform\", \"translate(0,\" + height + \")\")\n",
       "      .call(xAxis)\n",
       "    .append(\"text\")\n",
       "      .attr(\"class\", \"label\")\n",
       "      .attr(\"x\", width)\n",
       "      .attr(\"y\", -6)\n",
       "      .style(\"text-anchor\", \"end\")\n",
       "      .text(\"Sepal Width (cm)\");\n",
       "\n",
       "  svg.append(\"g\")\n",
       "      .attr(\"class\", \"y axis\")\n",
       "      .call(yAxis)\n",
       "    .append(\"text\")\n",
       "      .attr(\"class\", \"label\")\n",
       "      .attr(\"transform\", \"rotate(-90)\")\n",
       "      .attr(\"y\", 6)\n",
       "      .attr(\"dy\", \".71em\")\n",
       "      .style(\"text-anchor\", \"end\")\n",
       "      .text(\"Sepal Length (cm)\")\n",
       "\n",
       "  svg.selectAll(\".dot\")\n",
       "      .data(data)\n",
       "    .enter().append(\"circle\")\n",
       "      .attr(\"class\", \"dot\")\n",
       "      .attr(\"r\", 3.5)\n",
       "      .attr(\"cx\", function(d) { return x(d.sepalWidth); })\n",
       "      .attr(\"cy\", function(d) { return y(d.sepalLength); })\n",
       "      .style(\"fill\", function(d) { return color(d.species); });\n",
       "\n",
       "  var legend = svg.selectAll(\".legend\")\n",
       "      .data(color.domain())\n",
       "    .enter().append(\"g\")\n",
       "      .attr(\"class\", \"legend\")\n",
       "      .attr(\"transform\", function(d, i) { return \"translate(0,\" + i * 20 + \")\"; });\n",
       "\n",
       "  legend.append(\"rect\")\n",
       "      .attr(\"x\", width - 18)\n",
       "      .attr(\"width\", 18)\n",
       "      .attr(\"height\", 18)\n",
       "      .style(\"fill\", color);\n",
       "\n",
       "  legend.append(\"text\")\n",
       "      .attr(\"x\", width - 24)\n",
       "      .attr(\"y\", 9)\n",
       "      .attr(\"dy\", \".35em\")\n",
       "      .style(\"text-anchor\", \"end\")\n",
       "      .text(function(d) { return d; });\n",
       "\n",
       "// **** }); ****\n",
       "\n",
       " </script>\n"
      ],
      "text/plain": [
       "<IPython.core.display.HTML object>"
      ]
     },
     "execution_count": 54,
     "metadata": {},
     "output_type": "execute_result"
    }
   ],
   "source": [
    "js_text = js_text_template.substitute({'python_data': json.dumps(iris_array_of_dicts),\n",
    "                                       'graphdiv': 'graph-div'})\n",
    "HTML(html_template.substitute({'css_text': css_text, 'js_text': js_text}))"
   ]
  }
 ],
 "metadata": {
  "anaconda-cloud": {},
  "kernelspec": {
   "display_name": "Python [default]",
   "language": "python",
   "name": "python2"
  },
  "language_info": {
   "codemirror_mode": {
    "name": "ipython",
    "version": 2
   },
   "file_extension": ".py",
   "mimetype": "text/x-python",
   "name": "python",
   "nbconvert_exporter": "python",
   "pygments_lexer": "ipython2",
   "version": "2.7.13"
  },
  "toc": {
   "nav_menu": {},
   "number_sections": true,
   "sideBar": true,
   "skip_h1_title": false,
   "toc_cell": false,
   "toc_position": {},
   "toc_section_display": "block",
   "toc_window_display": false
  }
 },
 "nbformat": 4,
 "nbformat_minor": 2
}
